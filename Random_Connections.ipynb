{
  "nbformat": 4,
  "nbformat_minor": 0,
  "metadata": {
    "colab": {
      "name": "Random Connections.ipynb",
      "provenance": [],
      "authorship_tag": "ABX9TyNnQHkdImSWhFCYWsYM1bRY",
      "include_colab_link": true
    },
    "kernelspec": {
      "name": "python3",
      "display_name": "Python 3"
    },
    "language_info": {
      "name": "python"
    }
  },
  "cells": [
    {
      "cell_type": "markdown",
      "metadata": {
        "id": "view-in-github",
        "colab_type": "text"
      },
      "source": [
        "<a href=\"https://colab.research.google.com/github/annanya-mathur/Building-my-own-Artificial-Neural-Network/blob/main/Random_Connections.ipynb\" target=\"_parent\"><img src=\"https://colab.research.google.com/assets/colab-badge.svg\" alt=\"Open In Colab\"/></a>"
      ]
    },
    {
      "cell_type": "markdown",
      "metadata": {
        "id": "m3m6hedGhUmQ"
      },
      "source": [
        "\n",
        "\n",
        "#  Making Model Unsupervised\n",
        "\n",
        "---\n",
        "\n",
        "\n",
        "\n",
        "\n",
        "**For Building an Artificial Neural Network here I am taking connections random i.e. making weights and bias values random , thereby predicting how much accuracy we will get . **"
      ]
    },
    {
      "cell_type": "code",
      "metadata": {
        "id": "6j3zDAj4e1hs"
      },
      "source": [
        "import numpy as np\n",
        "import pandas as pd\n",
        "import seaborn as sb\n",
        "import matplotlib.pyplot as pt\n"
      ],
      "execution_count": 25,
      "outputs": []
    },
    {
      "cell_type": "code",
      "metadata": {
        "id": "vdMD504vhlYa"
      },
      "source": [
        "color=[1,0,1,0,1,0,1,0]\n",
        "length=[3,2,4,3,3.5,2,5.5,1]\n",
        "width=[1.5,1,1.5,1,0.5,0.5,1,1]"
      ],
      "execution_count": 26,
      "outputs": []
    },
    {
      "cell_type": "code",
      "metadata": {
        "id": "GsFPCgN8f5Fk",
        "outputId": "7b575012-2afc-4aac-9817-f48fe026f929",
        "colab": {
          "base_uri": "https://localhost:8080/",
          "height": 284
        }
      },
      "source": [
        "f_data=pd.DataFrame({\"length\":length,\"width\":width,\"color\":color})\n",
        "f_data"
      ],
      "execution_count": 27,
      "outputs": [
        {
          "output_type": "execute_result",
          "data": {
            "text/html": [
              "<div>\n",
              "<style scoped>\n",
              "    .dataframe tbody tr th:only-of-type {\n",
              "        vertical-align: middle;\n",
              "    }\n",
              "\n",
              "    .dataframe tbody tr th {\n",
              "        vertical-align: top;\n",
              "    }\n",
              "\n",
              "    .dataframe thead th {\n",
              "        text-align: right;\n",
              "    }\n",
              "</style>\n",
              "<table border=\"1\" class=\"dataframe\">\n",
              "  <thead>\n",
              "    <tr style=\"text-align: right;\">\n",
              "      <th></th>\n",
              "      <th>length</th>\n",
              "      <th>width</th>\n",
              "      <th>color</th>\n",
              "    </tr>\n",
              "  </thead>\n",
              "  <tbody>\n",
              "    <tr>\n",
              "      <th>0</th>\n",
              "      <td>3.0</td>\n",
              "      <td>1.5</td>\n",
              "      <td>1</td>\n",
              "    </tr>\n",
              "    <tr>\n",
              "      <th>1</th>\n",
              "      <td>2.0</td>\n",
              "      <td>1.0</td>\n",
              "      <td>0</td>\n",
              "    </tr>\n",
              "    <tr>\n",
              "      <th>2</th>\n",
              "      <td>4.0</td>\n",
              "      <td>1.5</td>\n",
              "      <td>1</td>\n",
              "    </tr>\n",
              "    <tr>\n",
              "      <th>3</th>\n",
              "      <td>3.0</td>\n",
              "      <td>1.0</td>\n",
              "      <td>0</td>\n",
              "    </tr>\n",
              "    <tr>\n",
              "      <th>4</th>\n",
              "      <td>3.5</td>\n",
              "      <td>0.5</td>\n",
              "      <td>1</td>\n",
              "    </tr>\n",
              "    <tr>\n",
              "      <th>5</th>\n",
              "      <td>2.0</td>\n",
              "      <td>0.5</td>\n",
              "      <td>0</td>\n",
              "    </tr>\n",
              "    <tr>\n",
              "      <th>6</th>\n",
              "      <td>5.5</td>\n",
              "      <td>1.0</td>\n",
              "      <td>1</td>\n",
              "    </tr>\n",
              "    <tr>\n",
              "      <th>7</th>\n",
              "      <td>1.0</td>\n",
              "      <td>1.0</td>\n",
              "      <td>0</td>\n",
              "    </tr>\n",
              "  </tbody>\n",
              "</table>\n",
              "</div>"
            ],
            "text/plain": [
              "   length  width  color\n",
              "0     3.0    1.5      1\n",
              "1     2.0    1.0      0\n",
              "2     4.0    1.5      1\n",
              "3     3.0    1.0      0\n",
              "4     3.5    0.5      1\n",
              "5     2.0    0.5      0\n",
              "6     5.5    1.0      1\n",
              "7     1.0    1.0      0"
            ]
          },
          "metadata": {
            "tags": []
          },
          "execution_count": 27
        }
      ]
    },
    {
      "cell_type": "code",
      "metadata": {
        "id": "HzQ4jp_YhwiW",
        "outputId": "8fd6c3cb-6ace-49ea-8845-6a44aae56fea",
        "colab": {
          "base_uri": "https://localhost:8080/",
          "height": 279
        }
      },
      "source": [
        "sb.scatterplot(x='length',y='width',data=f_data,hue='color',size='color',sizes=(500,500))\n",
        "pt.grid(True,color='k')"
      ],
      "execution_count": 42,
      "outputs": [
        {
          "output_type": "display_data",
          "data": {
            "image/png": "[encoded data removed]",
            "text/plain": [
              "<Figure size 432x288 with 1 Axes>"
            ]
          },
          "metadata": {
            "tags": [],
            "needs_background": "light"
          }
        }
      ]
    },
    {
      "cell_type": "code",
      "metadata": {
        "id": "k3APXAsJFoI5"
      },
      "source": [
        "def fun(m1,m2,w1,w2,b):\n",
        "  x=m1*w1+m2*w2+b\n",
        "  return sigmoid(x)\n",
        "\n",
        "def sigmoid(x):\n",
        "  return 1/(1+np.exp(-x))"
      ],
      "execution_count": 43,
      "outputs": []
    },
    {
      "cell_type": "code",
      "metadata": {
        "colab": {
          "base_uri": "https://localhost:8080/"
        },
        "id": "uNVHgzeIGOFF",
        "outputId": "8b549f97-8800-4e9d-fe87-0d1e0e3c461a"
      },
      "source": [
        "w1=np.random.randn()\n",
        "w2=np.random.randn()\n",
        "b=np.random.randn()\n",
        "print (w1)\n",
        "print (w2)\n",
        "print (b)"
      ],
      "execution_count": 47,
      "outputs": [
        {
          "output_type": "stream",
          "text": [
            "-0.26258185573739146\n",
            "-1.5961170741566062\n",
            "0.3487384015757086\n"
          ],
          "name": "stdout"
        }
      ]
    },
    {
      "cell_type": "code",
      "metadata": {
        "colab": {
          "base_uri": "https://localhost:8080/"
        },
        "id": "CWQ5fl7YGyhu",
        "outputId": "e517eade-21aa-4452-d37e-804406659239"
      },
      "source": [
        "fun (4,1.5,w1,w2,b)      "
      ],
      "execution_count": 48,
      "outputs": [
        {
          "output_type": "execute_result",
          "data": {
            "text/plain": [
              "0.04328229815922727"
            ]
          },
          "metadata": {
            "tags": []
          },
          "execution_count": 48
        }
      ]
    },
    {
      "cell_type": "markdown",
      "metadata": {
        "id": "NTkKs9F6hDuK"
      },
      "source": [
        "**Wrong Prediction since length with 4 and width with 1.5 should be nearly equals to 1. **"
      ]
    },
    {
      "cell_type": "code",
      "metadata": {
        "colab": {
          "base_uri": "https://localhost:8080/"
        },
        "id": "qPR-xrbmH6s3",
        "outputId": "ebb78454-7495-4383-8f63-3eea4a22ccc3"
      },
      "source": [
        "fun (2,0.5,w1,w2,b)"
      ],
      "execution_count": 49,
      "outputs": [
        {
          "output_type": "execute_result",
          "data": {
            "text/plain": [
              "0.2739876791102126"
            ]
          },
          "metadata": {
            "tags": []
          },
          "execution_count": 49
        }
      ]
    },
    {
      "cell_type": "markdown",
      "metadata": {
        "id": "QDVAE6ffhIPR"
      },
      "source": [
        "**Right Prediction**"
      ]
    },
    {
      "cell_type": "markdown",
      "metadata": {
        "id": "qLYC0bClpjig"
      },
      "source": [
        "**Hence, We have to train our model to get more accuracy.**"
      ]
    }
  ]
}