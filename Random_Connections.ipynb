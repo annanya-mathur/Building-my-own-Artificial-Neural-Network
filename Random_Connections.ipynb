{
  "nbformat": 4,
  "nbformat_minor": 0,
  "metadata": {
    "colab": {
      "name": "Random Connections.ipynb",
      "provenance": [],
      "authorship_tag": "ABX9TyNxhKDuTJP9Bi0LCQmlqY2J",
      "include_colab_link": true
    },
    "kernelspec": {
      "name": "python3",
      "display_name": "Python 3"
    },
    "language_info": {
      "name": "python"
    }
  },
  "cells": [
    {
      "cell_type": "markdown",
      "metadata": {
        "id": "view-in-github",
        "colab_type": "text"
      },
      "source": [
        "<a href=\"https://colab.research.google.com/github/annanya-mathur/Building-my-own-Artificial-Neural-Network/blob/main/Random_Connections.ipynb\" target=\"_parent\"><img src=\"https://colab.research.google.com/assets/colab-badge.svg\" alt=\"Open In Colab\"/></a>"
      ]
    },
    {
      "cell_type": "code",
      "metadata": {
        "id": "C6gLXh1XE39U"
      },
      "source": [
        "import numpy as np\n"
      ],
      "execution_count": 4,
      "outputs": []
    },
    {
      "cell_type": "code",
      "metadata": {
        "id": "k3APXAsJFoI5"
      },
      "source": [
        "def fun(m1,m2,w1,w2,b):\n",
        "  x=m1*w1+m2*w2+b\n",
        "  return sigmoid(x)\n",
        "\n",
        "def sigmoid(x):\n",
        "  return 1/(1+np.exp(-x))"
      ],
      "execution_count": 10,
      "outputs": []
    },
    {
      "cell_type": "code",
      "metadata": {
        "colab": {
          "base_uri": "https://localhost:8080/"
        },
        "id": "uNVHgzeIGOFF",
        "outputId": "0066e79a-26b6-4727-f5a1-543529f99add"
      },
      "source": [
        "w1=np.random.randn()\n",
        "w2=np.random.randn()\n",
        "b=np.random.randn()\n",
        "print (w1)\n",
        "print (w2)\n",
        "print (b)"
      ],
      "execution_count": 14,
      "outputs": [
        {
          "output_type": "stream",
          "text": [
            "0.8226174181796164\n",
            "1.2535074486914783\n",
            "-0.08411268587201778\n"
          ],
          "name": "stdout"
        }
      ]
    },
    {
      "cell_type": "code",
      "metadata": {
        "colab": {
          "base_uri": "https://localhost:8080/"
        },
        "id": "CWQ5fl7YGyhu",
        "outputId": "fb64db1f-c7ab-48f5-a407-cf3f9bdd3de1"
      },
      "source": [
        "fun (4,1.5,w1,w2,b)"
      ],
      "execution_count": 15,
      "outputs": [
        {
          "output_type": "execute_result",
          "data": {
            "text/plain": [
              "0.9938590635333331"
            ]
          },
          "metadata": {
            "tags": []
          },
          "execution_count": 15
        }
      ]
    },
    {
      "cell_type": "code",
      "metadata": {
        "colab": {
          "base_uri": "https://localhost:8080/"
        },
        "id": "qPR-xrbmH6s3",
        "outputId": "35ddd1f2-57a7-4c62-c631-f16a3c82a1df"
      },
      "source": [
        "fun (2,0.5,w1,w2,b)"
      ],
      "execution_count": 17,
      "outputs": [
        {
          "output_type": "execute_result",
          "data": {
            "text/plain": [
              "0.8991554648022777"
            ]
          },
          "metadata": {
            "tags": []
          },
          "execution_count": 17
        }
      ]
    }
  ]
}