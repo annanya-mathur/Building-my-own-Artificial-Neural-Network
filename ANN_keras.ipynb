{
  "nbformat": 4,
  "nbformat_minor": 0,
  "metadata": {
    "colab": {
      "name": "ANN_keras.ipynb",
      "provenance": [],
      "authorship_tag": "ABX9TyMWf2ro6zFWqcJPRYEOOuKX",
      "include_colab_link": true
    },
    "kernelspec": {
      "name": "python3",
      "display_name": "Python 3"
    },
    "language_info": {
      "name": "python"
    }
  },
  "cells": [
    {
      "cell_type": "markdown",
      "metadata": {
        "id": "view-in-github",
        "colab_type": "text"
      },
      "source": [
        "<a href=\"https://colab.research.google.com/github/annanya-mathur/Building-my-own-Artificial-Neural-Network-with-Tensorflow/blob/main/ANN_keras.ipynb\" target=\"_parent\"><img src=\"https://colab.research.google.com/assets/colab-badge.svg\" alt=\"Open In Colab\"/></a>"
      ]
    },
    {
      "cell_type": "markdown",
      "metadata": {
        "id": "k_8VVsdbLlCP"
      },
      "source": [
        "# **This neural network is made with 1 input and output layer and 2 hidden layers with keras as api and tensorflow at backend**"
      ]
    },
    {
      "cell_type": "code",
      "metadata": {
        "id": "I7hy8_7dIkQk"
      },
      "source": [
        "import keras"
      ],
      "execution_count": 1,
      "outputs": []
    },
    {
      "cell_type": "code",
      "metadata": {
        "id": "e4HObEWuI-64"
      },
      "source": [
        "from keras.models import Sequential\n",
        "from keras.layers import Dense\n",
        "from keras.optimizers import Adam"
      ],
      "execution_count": 3,
      "outputs": []
    },
    {
      "cell_type": "code",
      "metadata": {
        "id": "a2RfvCqFJUuc"
      },
      "source": [
        "model=Sequential(\n",
        "    [\n",
        "     Dense(16,input_dim=1,activation=\"relu\"),\n",
        "     Dense(36,activation=\"relu\"),\n",
        "     Dense(2,activation=\"softmax\")\n",
        "    ]\n",
        ")"
      ],
      "execution_count": 5,
      "outputs": []
    },
    {
      "cell_type": "code",
      "metadata": {
        "id": "ln5DYx7TQmI7"
      },
      "source": [
        "model.compile( Adam(learning_rate=0.001),\n",
        "               loss=\"sparse_categorical_entropy\",\n",
        "              metrics=[\"accuracy\"]\n",
        ")"
      ],
      "execution_count": 11,
      "outputs": []
    },
    {
      "cell_type": "code",
      "metadata": {
        "colab": {
          "base_uri": "https://localhost:8080/"
        },
        "id": "YtOLoBU7QwxW",
        "outputId": "9dce7098-2e61-49c1-ed3f-5cab9c2e680f"
      },
      "source": [
        "model.summary()"
      ],
      "execution_count": 14,
      "outputs": [
        {
          "output_type": "stream",
          "text": [
            "Model: \"sequential\"\n",
            "_________________________________________________________________\n",
            "Layer (type)                 Output Shape              Param #   \n",
            "=================================================================\n",
            "dense (Dense)                (None, 16)                32        \n",
            "_________________________________________________________________\n",
            "dense_1 (Dense)              (None, 36)                612       \n",
            "_________________________________________________________________\n",
            "dense_2 (Dense)              (None, 2)                 74        \n",
            "=================================================================\n",
            "Total params: 718\n",
            "Trainable params: 718\n",
            "Non-trainable params: 0\n",
            "_________________________________________________________________\n"
          ],
          "name": "stdout"
        }
      ]
    },
    {
      "cell_type": "markdown",
      "metadata": {
        "id": "qRgXNz-XTj1h"
      },
      "source": [
        ">\n",
        "\n",
        "**1.   Hidden layer 1 has 32 parameters**\n",
        "\n",
        "**2.   Hidden layer 2 has 612 parameters**\n",
        "\n"
      ]
    }
  ]
}