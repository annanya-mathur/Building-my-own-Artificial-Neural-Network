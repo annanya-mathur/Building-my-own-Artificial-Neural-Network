{
  "nbformat": 4,
  "nbformat_minor": 0,
  "metadata": {
    "colab": {
      "name": "McCullohPitt_Neurons.ipynb",
      "provenance": [],
      "authorship_tag": "ABX9TyMuo6KE6huweMrIYtznkfim",
      "include_colab_link": true
    },
    "kernelspec": {
      "name": "python3",
      "display_name": "Python 3"
    },
    "language_info": {
      "name": "python"
    }
  },
  "cells": [
    {
      "cell_type": "markdown",
      "metadata": {
        "id": "view-in-github",
        "colab_type": "text"
      },
      "source": [
        "<a href=\"https://colab.research.google.com/github/annanya-mathur/Building-my-own-Artificial-Neural-Network-with-Tensorflow/blob/main/McCullohPitt_Neurons.ipynb\" target=\"_parent\"><img src=\"https://colab.research.google.com/assets/colab-badge.svg\" alt=\"Open In Colab\"/></a>"
      ]
    },
    {
      "cell_type": "markdown",
      "metadata": {
        "id": "pwBHmmQ6VJPm"
      },
      "source": [
        "# Warren McCulloch & Walter Pitts Neuron\n",
        "\n",
        "   **This neuron is a highly simplified computational model which resembles its behavior with neuron possessed by the human brain.**\n",
        "\n",
        "![Mcneuron.png](data:image/png;base64,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)\n",
        "\n",
        "**g(x1 + x2 +_ _) = g(x) = Σxi**\n",
        "\n",
        "\n"
      ]
    },
    {
      "cell_type": "code",
      "metadata": {
        "id": "jFBoGWedTEsN"
      },
      "source": [
        "import numpy as np\n",
        "from numpy import array, dot, random\n",
        "from random import choice"
      ],
      "execution_count": 1,
      "outputs": []
    },
    {
      "cell_type": "markdown",
      "metadata": {
        "id": "riDQpy-GXasN"
      },
      "source": [
        "***Following AND Logical Gate***"
      ]
    },
    {
      "cell_type": "code",
      "metadata": {
        "id": "E6igc7VBT6LG"
      },
      "source": [
        "w=random.rand(2)\n",
        "w[0]=1\n",
        "w[1]=1\n",
        "training_data = [\n",
        "                 (array([0,0]),0),\n",
        "                 (array([0,1]),0),\n",
        "                 (array([1,0]),0),\n",
        "                 (array([1,1]),1)\n",
        "]"
      ],
      "execution_count": 11,
      "outputs": []
    },
    {
      "cell_type": "markdown",
      "metadata": {
        "id": "zpy8vC2_X2RK"
      },
      "source": [
        "***Threshold is 2 defined by step_function i.e. anything greater than 2 will be true else false***"
      ]
    },
    {
      "cell_type": "code",
      "metadata": {
        "id": "56j47WSuXkyq"
      },
      "source": [
        "step_funtion= lambda x:0 if x<2 else 1"
      ],
      "execution_count": 12,
      "outputs": []
    },
    {
      "cell_type": "code",
      "metadata": {
        "colab": {
          "base_uri": "https://localhost:8080/"
        },
        "id": "wu1UdGoNX1hV",
        "outputId": "7eaf6685-ae48-4467-acda-419487c0f4d4"
      },
      "source": [
        "for x,_ in training_data:\n",
        "  y= dot(x,w)\n",
        "  print (\"{} : {} -> {}\".format(x[0:2],y,step_funtion(y)))"
      ],
      "execution_count": 16,
      "outputs": [
        {
          "output_type": "stream",
          "text": [
            "[0 0] : 0.0 -> 0\n",
            "[0 1] : 1.0 -> 0\n",
            "[1 0] : 1.0 -> 0\n",
            "[1 1] : 2.0 -> 1\n"
          ],
          "name": "stdout"
        }
      ]
    }
  ]
}